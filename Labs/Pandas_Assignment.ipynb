{
 "cells": [
  {
   "cell_type": "markdown",
   "id": "9a74bc80",
   "metadata": {},
   "source": [
    "# Q1: Import pandas library"
   ]
  },
  {
   "cell_type": "code",
   "execution_count": 117,
   "id": "3d77e070",
   "metadata": {},
   "outputs": [],
   "source": [
    "import pandas as pd"
   ]
  },
  {
   "cell_type": "markdown",
   "id": "11029d8d",
   "metadata": {},
   "source": [
    "# Q2: Read instagram_users.csv file"
   ]
  },
  {
   "cell_type": "code",
   "execution_count": 118,
   "id": "416acbaa",
   "metadata": {},
   "outputs": [],
   "source": [
    "df = pd.read_csv(\"instagram_users.csv\") "
   ]
  },
  {
   "cell_type": "markdown",
   "id": "e4a55d46",
   "metadata": {},
   "source": [
    "# Q3: Print the number of rows and columns contained in the dataset"
   ]
  },
  {
   "cell_type": "code",
   "execution_count": 119,
   "id": "f8052b2d",
   "metadata": {},
   "outputs": [
    {
     "name": "stdout",
     "output_type": "stream",
     "text": [
      "The number of (rows and columns) in dataset:  (65326, 18)\n"
     ]
    }
   ],
   "source": [
    "print(\"The number of (rows and columns) in dataset: \",df.shape)"
   ]
  },
  {
   "cell_type": "markdown",
   "id": "321e2cf3",
   "metadata": {},
   "source": [
    "# Q4: Print the size of dataset"
   ]
  },
  {
   "cell_type": "code",
   "execution_count": 120,
   "id": "94a2f530",
   "metadata": {},
   "outputs": [
    {
     "name": "stdout",
     "output_type": "stream",
     "text": [
      "The size of dataset :  1175868\n"
     ]
    }
   ],
   "source": [
    "print(\"The size of dataset : \",df.size)"
   ]
  },
  {
   "cell_type": "markdown",
   "id": "b522cc01",
   "metadata": {},
   "source": [
    "# Q5: Print the data type of each column"
   ]
  },
  {
   "cell_type": "code",
   "execution_count": 121,
   "id": "5e42df5a",
   "metadata": {},
   "outputs": [
    {
     "name": "stdout",
     "output_type": "stream",
     "text": [
      "The DataType of each column :  pos        int64\n",
      "flw        int64\n",
      "flg        int64\n",
      "bl         int64\n",
      "pic        int64\n",
      "lin        int64\n",
      "cl         int64\n",
      "cz       float64\n",
      "ni       float64\n",
      "erl      float64\n",
      "erc      float64\n",
      "lt       float64\n",
      "hc       float64\n",
      "pr       float64\n",
      "fo       float64\n",
      "cs       float64\n",
      "pi       float64\n",
      "class     object\n",
      "dtype: object\n"
     ]
    }
   ],
   "source": [
    "print(\"The DataType of each column : \",df.dtypes)"
   ]
  },
  {
   "cell_type": "markdown",
   "id": "ce0bd348",
   "metadata": {},
   "source": [
    "# Q6: Print the entire dataset\n",
    "Note: if your dataset contains more than 60 rows, only the first 5 rows and the last 5 rows will be printed."
   ]
  },
  {
   "cell_type": "code",
   "execution_count": 122,
   "id": "2651fc51",
   "metadata": {},
   "outputs": [
    {
     "name": "stdout",
     "output_type": "stream",
     "text": [
      "        pos   flw   flg   bl  pic  lin   cl        cz     ni        erl   erc  \\\n",
      "0        44    48   325   33    1    0   12  0.000000  0.000   0.000000  0.00   \n",
      "1        10    66   321  150    1    0  213  0.000000  1.000  14.390000  1.97   \n",
      "2        33   970   308  101    1    1  436  0.000000  1.000  10.100000  0.30   \n",
      "3        70    86   360   14    1    0    0  1.000000  0.000   0.780000  0.06   \n",
      "4         3    21   285   73    1    0   93  0.000000  0.000  14.290000  0.00   \n",
      "...     ...   ...   ...  ...  ...  ...  ...       ...    ...        ...   ...   \n",
      "65321    13   145   642    0    1    0    7  0.461538  0.000  14.270000  0.58   \n",
      "65322   652  3000  1300  146    1    1  384  0.000000  0.389   8.520000  0.13   \n",
      "65323  1500  3700  3200  147    1    1  129  0.000000  0.111   9.390000  0.31   \n",
      "65324   329  1500  1800  218    1    1  290  0.055556  0.000   6.350000  0.26   \n",
      "65325   206   659   608   27    1    0   77  0.000000  0.333  25.549999  0.53   \n",
      "\n",
      "          lt     hc   pr     fo        cs           pi class  \n",
      "0      0.000  0.000  0.0  0.000  0.111111     0.094985     f  \n",
      "1      0.000  1.500  0.0  0.000  0.206826   230.412857     f  \n",
      "2      0.000  2.500  0.0  0.056  0.572174    43.569939     f  \n",
      "3      0.000  0.000  0.0  0.000  1.000000     5.859799     f  \n",
      "4      0.667  0.000  0.0  0.000  0.300494     0.126019     f  \n",
      "...      ...    ...  ...    ...       ...          ...   ...  \n",
      "65321  0.000  0.077  0.0  0.000  0.192308  1745.291260     r  \n",
      "65322  0.000  1.611  0.0  0.000  0.169917    54.629120     r  \n",
      "65323  0.722  0.000  0.0  0.056  0.058908   129.802048     r  \n",
      "65324  0.222  0.500  0.0  0.000  0.103174    53.402840     r  \n",
      "65325  0.222  0.222  0.0  0.167  0.017505   604.981445     r  \n",
      "\n",
      "[65326 rows x 18 columns]\n"
     ]
    }
   ],
   "source": [
    "print(df)"
   ]
  },
  {
   "cell_type": "markdown",
   "id": "0467233d",
   "metadata": {},
   "source": [
    "# Q7: Print the first 5 rows"
   ]
  },
  {
   "cell_type": "code",
   "execution_count": 123,
   "id": "d74487c7",
   "metadata": {},
   "outputs": [
    {
     "name": "stdout",
     "output_type": "stream",
     "text": [
      "The first 5 rows\n",
      "    pos  flw  flg   bl  pic  lin   cl   cz   ni    erl   erc     lt   hc   pr  \\\n",
      "0   44   48  325   33    1    0   12  0.0  0.0   0.00  0.00  0.000  0.0  0.0   \n",
      "1   10   66  321  150    1    0  213  0.0  1.0  14.39  1.97  0.000  1.5  0.0   \n",
      "2   33  970  308  101    1    1  436  0.0  1.0  10.10  0.30  0.000  2.5  0.0   \n",
      "3   70   86  360   14    1    0    0  1.0  0.0   0.78  0.06  0.000  0.0  0.0   \n",
      "4    3   21  285   73    1    0   93  0.0  0.0  14.29  0.00  0.667  0.0  0.0   \n",
      "\n",
      "      fo        cs          pi class  \n",
      "0  0.000  0.111111    0.094985     f  \n",
      "1  0.000  0.206826  230.412857     f  \n",
      "2  0.056  0.572174   43.569939     f  \n",
      "3  0.000  1.000000    5.859799     f  \n",
      "4  0.000  0.300494    0.126019     f  \n"
     ]
    }
   ],
   "source": [
    "print(\"The first 5 rows\\n\",df.head())"
   ]
  },
  {
   "cell_type": "markdown",
   "id": "caad024d",
   "metadata": {},
   "source": [
    "# Q8: Print the last 5 rows"
   ]
  },
  {
   "cell_type": "code",
   "execution_count": 124,
   "id": "39d40478",
   "metadata": {},
   "outputs": [
    {
     "name": "stdout",
     "output_type": "stream",
     "text": [
      "The last 5 rows\n",
      "         pos   flw   flg   bl  pic  lin   cl        cz     ni        erl   erc  \\\n",
      "65321    13   145   642    0    1    0    7  0.461538  0.000  14.270000  0.58   \n",
      "65322   652  3000  1300  146    1    1  384  0.000000  0.389   8.520000  0.13   \n",
      "65323  1500  3700  3200  147    1    1  129  0.000000  0.111   9.390000  0.31   \n",
      "65324   329  1500  1800  218    1    1  290  0.055556  0.000   6.350000  0.26   \n",
      "65325   206   659   608   27    1    0   77  0.000000  0.333  25.549999  0.53   \n",
      "\n",
      "          lt     hc   pr     fo        cs           pi class  \n",
      "65321  0.000  0.077  0.0  0.000  0.192308  1745.291260     r  \n",
      "65322  0.000  1.611  0.0  0.000  0.169917    54.629120     r  \n",
      "65323  0.722  0.000  0.0  0.056  0.058908   129.802048     r  \n",
      "65324  0.222  0.500  0.0  0.000  0.103174    53.402840     r  \n",
      "65325  0.222  0.222  0.0  0.167  0.017505   604.981445     r  \n"
     ]
    }
   ],
   "source": [
    "print(\"The last 5 rows\\n\",df.tail())"
   ]
  },
  {
   "cell_type": "markdown",
   "id": "4b8b1367",
   "metadata": {},
   "source": [
    "# Q9: Print the total number of null values"
   ]
  },
  {
   "cell_type": "code",
   "execution_count": 125,
   "id": "798bd987",
   "metadata": {},
   "outputs": [
    {
     "name": "stdout",
     "output_type": "stream",
     "text": [
      "The total number of null values \n",
      " 0\n"
     ]
    }
   ],
   "source": [
    "print(\"The total number of null values \\n\" , df.isnull().sum().sum())"
   ]
  },
  {
   "cell_type": "markdown",
   "id": "05ca8a46",
   "metadata": {},
   "source": [
    "# Q10: Print the rows that has duplicate values"
   ]
  },
  {
   "cell_type": "code",
   "execution_count": 126,
   "id": "67133af9",
   "metadata": {},
   "outputs": [
    {
     "name": "stdout",
     "output_type": "stream",
     "text": [
      "The rows that has duplicate values \n",
      "        pos  flw   flg  bl  pic  lin  cl   cz   ni  erl  erc   lt   hc   pr  \\\n",
      "4118     0    0     0   0    0    0  -1  0.0  0.0  0.0  0.0  0.0  0.0  0.0   \n",
      "4165     0   30   149   0    1    0   0  0.0  0.0  0.0  0.0  0.0  0.0  0.0   \n",
      "5812     0    0     0   0    0    0  -1  0.0  0.0  0.0  0.0  0.0  0.0  0.0   \n",
      "6500     0    0     0   0    0    0  -1  0.0  0.0  0.0  0.0  0.0  0.0  0.0   \n",
      "8134     0    0     0   0    0    0  -1  0.0  0.0  0.0  0.0  0.0  0.0  0.0   \n",
      "...    ...  ...   ...  ..  ...  ...  ..  ...  ...  ...  ...  ...  ...  ...   \n",
      "32745    0    0     0   0    0    0  -1  0.0  0.0  0.0  0.0  0.0  0.0  0.0   \n",
      "32747    0   34  7500   0    1    0   0  0.0  0.0  0.0  0.0  0.0  0.0  0.0   \n",
      "32748    0   77  7400   0    1    0   0  0.0  0.0  0.0  0.0  0.0  0.0  0.0   \n",
      "32749    0   70  7300   0    0    0   0  0.0  0.0  0.0  0.0  0.0  0.0  0.0   \n",
      "32764    0    0     0   0    0    0  -1  0.0  0.0  0.0  0.0  0.0  0.0  0.0   \n",
      "\n",
      "        fo   cs   pi class  \n",
      "4118   0.0  0.0  0.0     f  \n",
      "4165   0.0  1.0  0.0     f  \n",
      "5812   0.0  0.0  0.0     f  \n",
      "6500   0.0  0.0  0.0     f  \n",
      "8134   0.0  0.0  0.0     f  \n",
      "...    ...  ...  ...   ...  \n",
      "32745  0.0  0.0  0.0     f  \n",
      "32747  0.0  1.0  0.0     f  \n",
      "32748  0.0  1.0  0.0     f  \n",
      "32749  0.0  1.0  0.0     f  \n",
      "32764  0.0  0.0  0.0     f  \n",
      "\n",
      "[1082 rows x 18 columns]\n"
     ]
    }
   ],
   "source": [
    "print(\"The rows that has duplicate values \\n\" , df[df.duplicated()])"
   ]
  },
  {
   "cell_type": "code",
   "execution_count": 127,
   "id": "3b670940",
   "metadata": {},
   "outputs": [
    {
     "name": "stdout",
     "output_type": "stream",
     "text": [
      "Rows before:  65326\n"
     ]
    }
   ],
   "source": [
    "rows_before = len(df)\n",
    "print(f\"Rows before: \" ,rows_before)"
   ]
  },
  {
   "cell_type": "markdown",
   "id": "f50aeb22",
   "metadata": {},
   "source": [
    "# Q11: Remove all duplicate values "
   ]
  },
  {
   "cell_type": "code",
   "execution_count": 128,
   "id": "1b27a1c6",
   "metadata": {},
   "outputs": [
    {
     "name": "stdout",
     "output_type": "stream",
     "text": [
      "Dataset after removing duplicate values:\n",
      "         pos   flw   flg   bl  pic  lin   cl        cz     ni        erl   erc  \\\n",
      "0        44    48   325   33    1    0   12  0.000000  0.000   0.000000  0.00   \n",
      "1        10    66   321  150    1    0  213  0.000000  1.000  14.390000  1.97   \n",
      "2        33   970   308  101    1    1  436  0.000000  1.000  10.100000  0.30   \n",
      "3        70    86   360   14    1    0    0  1.000000  0.000   0.780000  0.06   \n",
      "4         3    21   285   73    1    0   93  0.000000  0.000  14.290000  0.00   \n",
      "...     ...   ...   ...  ...  ...  ...  ...       ...    ...        ...   ...   \n",
      "65321    13   145   642    0    1    0    7  0.461538  0.000  14.270000  0.58   \n",
      "65322   652  3000  1300  146    1    1  384  0.000000  0.389   8.520000  0.13   \n",
      "65323  1500  3700  3200  147    1    1  129  0.000000  0.111   9.390000  0.31   \n",
      "65324   329  1500  1800  218    1    1  290  0.055556  0.000   6.350000  0.26   \n",
      "65325   206   659   608   27    1    0   77  0.000000  0.333  25.549999  0.53   \n",
      "\n",
      "          lt     hc   pr     fo        cs           pi class  \n",
      "0      0.000  0.000  0.0  0.000  0.111111     0.094985     f  \n",
      "1      0.000  1.500  0.0  0.000  0.206826   230.412857     f  \n",
      "2      0.000  2.500  0.0  0.056  0.572174    43.569939     f  \n",
      "3      0.000  0.000  0.0  0.000  1.000000     5.859799     f  \n",
      "4      0.667  0.000  0.0  0.000  0.300494     0.126019     f  \n",
      "...      ...    ...  ...    ...       ...          ...   ...  \n",
      "65321  0.000  0.077  0.0  0.000  0.192308  1745.291260     r  \n",
      "65322  0.000  1.611  0.0  0.000  0.169917    54.629120     r  \n",
      "65323  0.722  0.000  0.0  0.056  0.058908   129.802048     r  \n",
      "65324  0.222  0.500  0.0  0.000  0.103174    53.402840     r  \n",
      "65325  0.222  0.222  0.0  0.167  0.017505   604.981445     r  \n",
      "\n",
      "[64244 rows x 18 columns]\n"
     ]
    }
   ],
   "source": [
    "df=df.drop_duplicates()\n",
    "print(\"Dataset after removing duplicate values:\\n\",df )"
   ]
  },
  {
   "cell_type": "code",
   "execution_count": 129,
   "id": "2cb4dd39",
   "metadata": {},
   "outputs": [
    {
     "name": "stdout",
     "output_type": "stream",
     "text": [
      "Rows after:  64244\n"
     ]
    }
   ],
   "source": [
    "rows_after = len(df)\n",
    "print(f\"Rows after: \" ,rows_after)\n"
   ]
  },
  {
   "cell_type": "markdown",
   "id": "9c5dad70",
   "metadata": {},
   "source": [
    "# Q12: Print the number of rows and columns contained in the dataset after removing the duplicate values"
   ]
  },
  {
   "cell_type": "code",
   "execution_count": 130,
   "id": "0c655153",
   "metadata": {},
   "outputs": [
    {
     "name": "stdout",
     "output_type": "stream",
     "text": [
      "The number of (rows and columns) in dataset:  (64244, 18)\n"
     ]
    }
   ],
   "source": [
    "print(\"The number of (rows and columns) in dataset: \",df.shape)"
   ]
  },
  {
   "cell_type": "code",
   "execution_count": 131,
   "id": "735359ff",
   "metadata": {},
   "outputs": [
    {
     "name": "stdout",
     "output_type": "stream",
     "text": [
      "Current columns: Index(['pos', 'flw', 'flg', 'bl', 'pic', 'lin', 'cl', 'cz', 'ni', 'erl', 'erc',\n",
      "       'lt', 'hc', 'pr', 'fo', 'cs', 'pi', 'class'],\n",
      "      dtype='object')\n"
     ]
    }
   ],
   "source": [
    "# عرض جميع أسماء الأعمدة الحالية\n",
    "print(\"Current columns:\", df.columns)\n"
   ]
  },
  {
   "cell_type": "markdown",
   "id": "e158869c",
   "metadata": {},
   "source": [
    "# Q13: Rename all dataset's columns\n",
    "\n",
    "|  Column name  |  New column name  |  Description  |\n",
    "| ----- | -------- | ------- |\n",
    "| pos    | Num_posts        | Number of total posts that the user has ever posted   |\n",
    "| flg    | Num_following    | Number of following                                   |\n",
    "| flr    | Num_followers    | Number of followers                                   |\n",
    "| bl     | Biography_length | Length (number of characters) of the user's biography |\n",
    "| pic    | Picture_availability | Value 0 if the user has no profile picture, or 1 if has |\n",
    "| lin    | Link_availability| Value 0 if the user has no external URL, or 1 if has |\n",
    "| cl     | Average_caption_length | The average number of character of captions in media |\n",
    "| cz     | Caption_zero     | Percentage (0.0 to 1.0) of captions that has almost zero (<=3) length |\n",
    "| ni     | Non_image_percentage | Percentage (0.0 to 1.0) of non-image media. There are three types of media on an Instagram post, i.e. image, video, carousel\n",
    "| erl    | Engagement_rate_like | Engagement rate (ER) is commonly defined as (num likes) divide by (num media) divide by (num followers)\n",
    "| erc    | Engagement_rate_comment | Similar to ER like, but it is for comments |\n",
    "| lt     | Location_tag_percentage | Percentage (0.0 to 1.0) of posts tagged with location |\n",
    "| hc     | Average hashtag count   | Average number of hashtags used in a post |\n",
    "| pr     | Promotional keywords | Average use of promotional keywords in hashtag, i.e. regrann, contest, repost, giveaway, mention, share, give away, quiz |\n",
    "| fo     | Followers keywords | Average use of followers hunter keywords in hashtag, i.e. follow, like, folback, follback, f4f|\n",
    "| cs     | Cosine similarity  | Average cosine similarity of between all pair of two posts a user has |\n",
    "| pi     | Post interval      | Average interval between posts (in hours) |\n",
    "| class  | real_fake          | r (real/authentic user), f (fake user/bought followers) |"
   ]
  },
  {
   "cell_type": "code",
   "execution_count": 132,
   "id": "745fb877",
   "metadata": {},
   "outputs": [],
   "source": [
    "\n",
    "df = df.rename(columns={\n",
    "    \"pos\": \"Num_posts\",  \n",
    "    \"flw\": \"Num_followers\",  \n",
    "    \"flg\": \"Num_following\",\n",
    "    \"bl\": \"Biography_length\",\n",
    "    \"pic\": \"Picture_availability\",\n",
    "    \"lin\": \"Link_availability\",\n",
    "    \"cl\": \"Average_caption_length\",\n",
    "    \"cz\": \"Caption_zero\",\n",
    "    \"ni\": \"Non_image_percentage\",\n",
    "    \"erl\": \"Engagement_rate_like\",\n",
    "    \"erc\": \"Engagement_rate_comment\",\n",
    "    \"lt\": \"Location_tag_percentage\",\n",
    "    \"hc\": \"Average_hashtag_count\",\n",
    "    \"pr\": \"Promotional_keywords\",\n",
    "    \"fo\": \"Followers_keywords\",\n",
    "    \"cs\": \"Cosine_similarity\",\n",
    "    \"pi\": \"Post_interval\",\n",
    "    \"class\": \"real_fake\"\n",
    "})\n",
    "\n"
   ]
  },
  {
   "cell_type": "code",
   "execution_count": 133,
   "id": "32ea2329",
   "metadata": {},
   "outputs": [
    {
     "name": "stdout",
     "output_type": "stream",
     "text": [
      "Updated columns: Index(['Num_posts', 'Num_followers', 'Num_following', 'Biography_length',\n",
      "       'Picture_availability', 'Link_availability', 'Average_caption_length',\n",
      "       'Caption_zero', 'Non_image_percentage', 'Engagement_rate_like',\n",
      "       'Engagement_rate_comment', 'Location_tag_percentage',\n",
      "       'Average_hashtag_count', 'Promotional_keywords', 'Followers_keywords',\n",
      "       'Cosine_similarity', 'Post_interval', 'real_fake'],\n",
      "      dtype='object')\n"
     ]
    }
   ],
   "source": [
    "print(\"Updated columns:\", df.columns)\n"
   ]
  },
  {
   "cell_type": "code",
   "execution_count": 134,
   "id": "6e61e65e",
   "metadata": {},
   "outputs": [
    {
     "name": "stdout",
     "output_type": "stream",
     "text": [
      "   Num_posts  Num_followers  Num_following  Biography_length  \\\n",
      "0         44             48            325                33   \n",
      "1         10             66            321               150   \n",
      "2         33            970            308               101   \n",
      "3         70             86            360                14   \n",
      "4          3             21            285                73   \n",
      "\n",
      "   Picture_availability  Link_availability  Average_caption_length  \\\n",
      "0                     1                  0                      12   \n",
      "1                     1                  0                     213   \n",
      "2                     1                  1                     436   \n",
      "3                     1                  0                       0   \n",
      "4                     1                  0                      93   \n",
      "\n",
      "   Caption_zero  Non_image_percentage  Engagement_rate_like  \\\n",
      "0           0.0                   0.0                  0.00   \n",
      "1           0.0                   1.0                 14.39   \n",
      "2           0.0                   1.0                 10.10   \n",
      "3           1.0                   0.0                  0.78   \n",
      "4           0.0                   0.0                 14.29   \n",
      "\n",
      "   Engagement_rate_comment  Location_tag_percentage  Average_hashtag_count  \\\n",
      "0                     0.00                    0.000                    0.0   \n",
      "1                     1.97                    0.000                    1.5   \n",
      "2                     0.30                    0.000                    2.5   \n",
      "3                     0.06                    0.000                    0.0   \n",
      "4                     0.00                    0.667                    0.0   \n",
      "\n",
      "   Promotional_keywords  Followers_keywords  Cosine_similarity  Post_interval  \\\n",
      "0                   0.0               0.000           0.111111       0.094985   \n",
      "1                   0.0               0.000           0.206826     230.412857   \n",
      "2                   0.0               0.056           0.572174      43.569939   \n",
      "3                   0.0               0.000           1.000000       5.859799   \n",
      "4                   0.0               0.000           0.300494       0.126019   \n",
      "\n",
      "  real_fake  \n",
      "0         f  \n",
      "1         f  \n",
      "2         f  \n",
      "3         f  \n",
      "4         f  \n"
     ]
    }
   ],
   "source": [
    "print(df.head())"
   ]
  },
  {
   "cell_type": "markdown",
   "id": "5d787ca2",
   "metadata": {},
   "source": [
    "# Q14: Change the class's values to real and fake"
   ]
  },
  {
   "cell_type": "code",
   "execution_count": 135,
   "id": "1f9b2da6",
   "metadata": {},
   "outputs": [],
   "source": [
    "df[\"real_fake\"] = df[\"real_fake\"].replace({\"r\": \"real\", \"f\": \"fake\"})"
   ]
  },
  {
   "cell_type": "code",
   "execution_count": 136,
   "id": "dd9449b1",
   "metadata": {},
   "outputs": [
    {
     "name": "stdout",
     "output_type": "stream",
     "text": [
      "Updates values of class's 0        fake\n",
      "1        fake\n",
      "2        fake\n",
      "3        fake\n",
      "4        fake\n",
      "         ... \n",
      "65321    real\n",
      "65322    real\n",
      "65323    real\n",
      "65324    real\n",
      "65325    real\n",
      "Name: real_fake, Length: 64244, dtype: object\n"
     ]
    }
   ],
   "source": [
    "print(\"Updates values of class's\",df[\"real_fake\"])"
   ]
  },
  {
   "cell_type": "markdown",
   "id": "39aecf1c",
   "metadata": {},
   "source": [
    "# Q15: Print the total number of each fake accounts and real accounts "
   ]
  },
  {
   "cell_type": "code",
   "execution_count": 137,
   "id": "4bfb149a",
   "metadata": {},
   "outputs": [
    {
     "name": "stdout",
     "output_type": "stream",
     "text": [
      "The total number of each fake accounts and real accounts :  real_fake\n",
      "real    32460\n",
      "fake    31784\n",
      "Name: count, dtype: int64\n"
     ]
    }
   ],
   "source": [
    "print(\"The total number of each fake accounts and real accounts : \",df[\"real_fake\"].value_counts())"
   ]
  },
  {
   "cell_type": "markdown",
   "id": "3b7464bb",
   "metadata": {},
   "source": [
    "# Q16: Print the count, mean, std, min, 25%, 50%, 75% and the max for each column"
   ]
  },
  {
   "cell_type": "code",
   "execution_count": 138,
   "id": "033b7757",
   "metadata": {},
   "outputs": [
    {
     "name": "stdout",
     "output_type": "stream",
     "text": [
      "          Num_posts  Num_followers  Num_following  Biography_length  \\\n",
      "count  64244.000000   6.424400e+04   64244.000000      64244.000000   \n",
      "mean     179.545047   1.202470e+03    2297.041732         58.464464   \n",
      "std      729.171634   2.188954e+04    2572.939318         64.228211   \n",
      "min        0.000000   0.000000e+00       0.000000          0.000000   \n",
      "25%        6.000000   1.310000e+02     403.000000          0.000000   \n",
      "50%       31.000000   3.480000e+02     997.000000         34.000000   \n",
      "75%      127.000000   8.300000e+02    3500.000000        111.000000   \n",
      "max    76200.000000   3.900000e+06    8800.000000        555.000000   \n",
      "\n",
      "       Picture_availability  Link_availability  Average_caption_length  \\\n",
      "count          64244.000000       64244.000000            64244.000000   \n",
      "mean               0.959140           0.286673              138.822131   \n",
      "std                0.197967           0.452211              216.786922   \n",
      "min                0.000000           0.000000               -1.000000   \n",
      "25%                1.000000           0.000000                9.000000   \n",
      "50%                1.000000           0.000000               48.000000   \n",
      "75%                1.000000           1.000000              174.000000   \n",
      "max                1.000000           1.000000             3644.000000   \n",
      "\n",
      "       Caption_zero  Non_image_percentage  Engagement_rate_like  \\\n",
      "count  64244.000000          64244.000000          64244.000000   \n",
      "mean       0.254160              0.196484             19.469109   \n",
      "std        0.339104              0.253804            122.036954   \n",
      "min        0.000000              0.000000              0.000000   \n",
      "25%        0.000000              0.000000              3.000000   \n",
      "50%        0.055556              0.083000              9.690000   \n",
      "75%        0.444444              0.333000             18.860001   \n",
      "max        1.000000              1.000000          26650.000000   \n",
      "\n",
      "       Engagement_rate_comment  Location_tag_percentage  \\\n",
      "count             64244.000000             64244.000000   \n",
      "mean                  1.158611                 0.212395   \n",
      "std                   5.857458                 0.301645   \n",
      "min                   0.000000                 0.000000   \n",
      "25%                   0.090000                 0.000000   \n",
      "50%                   0.460000                 0.000000   \n",
      "75%                   1.060000                 0.357000   \n",
      "max                1009.090027                 1.000000   \n",
      "\n",
      "       Average_hashtag_count  Promotional_keywords  Followers_keywords  \\\n",
      "count           64244.000000          64244.000000        64244.000000   \n",
      "mean                0.516348              0.033296            0.053727   \n",
      "std                 1.164729              0.222799            0.523365   \n",
      "min                 0.000000              0.000000            0.000000   \n",
      "25%                 0.000000              0.000000            0.000000   \n",
      "50%                 0.111000              0.000000            0.000000   \n",
      "75%                 0.611000              0.000000            0.000000   \n",
      "max                30.000000             20.000000           58.000000   \n",
      "\n",
      "       Cosine_similarity  Post_interval  \n",
      "count       64244.000000   64244.000000  \n",
      "mean            0.289861     504.836848  \n",
      "std             0.341986     950.611615  \n",
      "min             0.000000       0.000000  \n",
      "25%             0.032954      29.064719  \n",
      "50%             0.133135     190.369553  \n",
      "75%             0.431373     591.858658  \n",
      "max             1.000000   26786.134766  \n"
     ]
    }
   ],
   "source": [
    "print(df.describe())\n"
   ]
  }
 ],
 "metadata": {
  "kernelspec": {
   "display_name": "Python 3",
   "language": "python",
   "name": "python3"
  },
  "language_info": {
   "codemirror_mode": {
    "name": "ipython",
    "version": 3
   },
   "file_extension": ".py",
   "mimetype": "text/x-python",
   "name": "python",
   "nbconvert_exporter": "python",
   "pygments_lexer": "ipython3",
   "version": "3.9.6"
  }
 },
 "nbformat": 4,
 "nbformat_minor": 5
}
